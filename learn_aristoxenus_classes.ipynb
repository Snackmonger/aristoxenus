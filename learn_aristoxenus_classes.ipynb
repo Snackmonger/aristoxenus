{
 "cells": [
  {
   "cell_type": "markdown",
   "metadata": {},
   "source": [
    "Object-Oriented Interface\n",
    "-------------------------"
   ]
  },
  {
   "cell_type": "markdown",
   "metadata": {},
   "source": [
    "The classes included in the program allow us to create objects representing musical structures, to derive material from those objects, and to manipulate them into different states (inversions, voicings, etc.).\n",
    "\n",
    "The basic building block of most music is the heptatonic scale, and we can create an object to represent one."
   ]
  },
  {
   "cell_type": "code",
   "execution_count": 11,
   "metadata": {},
   "outputs": [
    {
     "name": "stdout",
     "output_type": "stream",
     "text": [
      "HeptatonicScale(C D E F G A B)\n"
     ]
    }
   ],
   "source": [
    "from aristoxenus import HeptatonicScale\n",
    "\n",
    "scale = HeptatonicScale(scale_name='diatonic', mode_name='ionian', keynote='C')\n",
    "print(scale)"
   ]
  },
  {
   "cell_type": "markdown",
   "metadata": {},
   "source": [
    "We specified the name of the scale and mode in our parameters, but it's also possible to leave them blank and get the same scale, since it is the program default."
   ]
  },
  {
   "cell_type": "code",
   "execution_count": 12,
   "metadata": {},
   "outputs": [
    {
     "name": "stdout",
     "output_type": "stream",
     "text": [
      "HeptatonicScale(C D E F G A B)\n"
     ]
    }
   ],
   "source": [
    "cmajor = HeptatonicScale()\n",
    "print(cmajor)"
   ]
  },
  {
   "cell_type": "markdown",
   "metadata": {},
   "source": [
    "We only need to specify parameters that are different compared to the default scale:"
   ]
  },
  {
   "cell_type": "code",
   "execution_count": 13,
   "metadata": {},
   "outputs": [
    {
     "name": "stdout",
     "output_type": "stream",
     "text": [
      "HeptatonicScale(A B C# D E F# G#)\n",
      "HeptatonicScale(D E F G A B C)\n",
      "HeptatonicScale(E F# G A B C# D#)\n",
      "HeptatonicScale(F# G A B# C# D E)\n"
     ]
    }
   ],
   "source": [
    "amajor = HeptatonicScale(keynote='A')\n",
    "print(amajor)\n",
    "ddorian = HeptatonicScale(keynote='D', mode_name='dorian')\n",
    "print(ddorian)\n",
    "emelodicminor = HeptatonicScale('E', scale_name='altered', mode_name='dorian')\n",
    "print(emelodicminor)\n",
    "something_weird = HeptatonicScale('F#', scale_name='biseptimal', mode_name='phrygian')\n",
    "print(something_weird)"
   ]
  },
  {
   "cell_type": "markdown",
   "metadata": {},
   "source": [
    "Of course, sometimes there are different names for the same scale. We can try to grab scales by an alias. In these situations, we assume that the ``mode_name`` parameter will be ignored, and that the whole structure is implied in the alias name: "
   ]
  },
  {
   "cell_type": "code",
   "execution_count": 14,
   "metadata": {},
   "outputs": [
    {
     "name": "stdout",
     "output_type": "stream",
     "text": [
      "HeptatonicScale(C# D E# F# G# A B#)\n",
      "('1', 'b2', '3', '4', '5', 'b6', '7')\n"
     ]
    }
   ],
   "source": [
    "byzantine = HeptatonicScale('C#', scale_name='byzantine')\n",
    "print(byzantine)\n",
    "print(byzantine.interval_names)"
   ]
  },
  {
   "cell_type": "code",
   "execution_count": 15,
   "metadata": {},
   "outputs": [
    {
     "name": "stdout",
     "output_type": "stream",
     "text": [
      "HeptatonicScale(D Eb F# G Ab Bb C)\n",
      "('1', 'b2', '3', '4', 'b5', 'b6', 'b7')\n"
     ]
    }
   ],
   "source": [
    "thing = HeptatonicScale('D', scale_name='locrian natural 3')\n",
    "print(thing)\n",
    "print(thing.interval_names)"
   ]
  },
  {
   "cell_type": "markdown",
   "metadata": {},
   "source": [
    "The system tries to be as forgiving as possible about how you enter alias names:"
   ]
  },
  {
   "cell_type": "code",
   "execution_count": 16,
   "metadata": {},
   "outputs": [
    {
     "name": "stdout",
     "output_type": "stream",
     "text": [
      "HeptatonicScale(C D E F# G# A B)\n",
      "HeptatonicScale(C Db Eb F G A Bb)\n",
      "HeptatonicScale(C D E F# G A# B)\n",
      "HeptatonicScale(C Db Eb F G Ab B)\n",
      "HeptatonicScale(C D E F# G# A# B)\n",
      "HeptatonicScale(C Db Eb F Gb Ab Bb)\n"
     ]
    }
   ],
   "source": [
    "print(HeptatonicScale(scale_name='lydian_augmented'))\n",
    "print(HeptatonicScale(scale_name='phrygianNat6'))\n",
    "print(HeptatonicScale(scale_name='lydian #6'))\n",
    "print(HeptatonicScale(scale_name='NeapolitanMinor'))\n",
    "print(HeptatonicScale(scale_name='lydianaug#6'))\n",
    "print(HeptatonicScale(scale_name='maj locrian'))"
   ]
  },
  {
   "cell_type": "markdown",
   "metadata": {},
   "source": [
    "The ``HeptatonicScale`` object contains a few properties and methods that allow us to play with its structure. We can see the basic makeup of the scale:"
   ]
  },
  {
   "cell_type": "code",
   "execution_count": 17,
   "metadata": {},
   "outputs": [
    {
     "name": "stdout",
     "output_type": "stream",
     "text": [
      "(0, 2, 3, 5, 7, 9, 11)\n",
      "('1', '2', 'b3', '4', '5', '6', '7')\n",
      "('E', 'F#', 'G', 'A', 'B', 'C#', 'D#')\n"
     ]
    }
   ],
   "source": [
    "print(emelodicminor.interval_structure)\n",
    "print(emelodicminor.interval_names)\n",
    "print(emelodicminor.note_names)"
   ]
  },
  {
   "cell_type": "markdown",
   "metadata": {},
   "source": [
    "And we can get ``Note`` objects based on the degrees of the scale:"
   ]
  },
  {
   "cell_type": "code",
   "execution_count": 18,
   "metadata": {},
   "outputs": [
    {
     "name": "stdout",
     "output_type": "stream",
     "text": [
      "Note(note_name='E', interval_name='1', octave=1)\n",
      "Note(note_name='G', interval_name='b3', octave=1)\n",
      "Note(note_name='B', interval_name='5', octave=1)\n",
      "Note(note_name='D#', interval_name='7', octave=1)\n",
      "Note(note_name='F#', interval_name='2', octave=2)\n"
     ]
    }
   ],
   "source": [
    "print(emelodicminor.get_degree(1))\n",
    "print(emelodicminor.get_degree(3))\n",
    "print(emelodicminor.get_degree(5))\n",
    "print(emelodicminor.get_degree(7))\n",
    "print(emelodicminor.get_degree(9))\n"
   ]
  },
  {
   "cell_type": "markdown",
   "metadata": {},
   "source": [
    "Or, to make things easier, we can input a whole pattern at once:"
   ]
  },
  {
   "cell_type": "code",
   "execution_count": 19,
   "metadata": {},
   "outputs": [
    {
     "name": "stdout",
     "output_type": "stream",
     "text": [
      "Note(note_name='E', interval_name='1', octave=1)\n",
      "Note(note_name='G', interval_name='b3', octave=1)\n",
      "Note(note_name='B', interval_name='5', octave=1)\n",
      "Note(note_name='F#', interval_name='2', octave=2)\n",
      "Note(note_name='C#', interval_name='6', octave=1)\n",
      "Note(note_name='A', interval_name='4', octave=1)\n",
      "Note(note_name='D#', interval_name='7', octave=1)\n",
      "Note(note_name='B', interval_name='5', octave=1)\n",
      "Note(note_name='G', interval_name='b3', octave=1)\n",
      "Note(note_name='E', interval_name='1', octave=1)\n"
     ]
    }
   ],
   "source": [
    "x = emelodicminor.get_native_pattern((1, 3, 5, 9, 6, 4, 7, 5, 3, 1))\n",
    "for y in x:\n",
    "    print(y)"
   ]
  },
  {
   "cell_type": "markdown",
   "metadata": {},
   "source": []
  },
  {
   "cell_type": "markdown",
   "metadata": {},
   "source": []
  },
  {
   "cell_type": "markdown",
   "metadata": {},
   "source": [
    "We can also use heptatonic scales as the basis for creating lists of chords built from different degrees of the scale."
   ]
  },
  {
   "cell_type": "code",
   "execution_count": 22,
   "metadata": {},
   "outputs": [
    {
     "name": "stdout",
     "output_type": "stream",
     "text": [
      "Chord(chord_symbol='Cmaj', note_names=('C', 'E', 'G'), interval_symbols=('1', '3', '5'), interval_structure=(0, 4, 7))\n",
      "Chord(chord_symbol='Dmin7', note_names=('D', 'F', 'A', 'C'), interval_symbols=('1', 'b3', '5', 'b7'), interval_structure=(0, 3, 7, 10))\n",
      "Chord(chord_symbol='E7susb2', note_names=('E', 'F', 'B', 'D'), interval_symbols=('1', 'b2', '5', 'b7'), interval_structure=(0, 1, 7, 10))\n",
      "Chord(chord_symbol='Fsus#4', note_names=('F', 'B', 'C'), interval_symbols=('1', '#4', '5'), interval_structure=(0, 6, 7))\n"
     ]
    }
   ],
   "source": [
    "I = cmajor.get_tertial_triad(1)\n",
    "ii = cmajor.get_tertial_tetrad(2)\n",
    "iii = cmajor.get_sus2_tetrad(3)\n",
    "IV = cmajor.get_sus4_triad(4)\n",
    "print(I)\n",
    "print(ii)\n",
    "print(iii)\n",
    "print(IV)"
   ]
  },
  {
   "cell_type": "markdown",
   "metadata": {},
   "source": [
    "And those chords can be modified in various ways:"
   ]
  },
  {
   "cell_type": "code",
   "execution_count": null,
   "metadata": {},
   "outputs": [
    {
     "name": "stdout",
     "output_type": "stream",
     "text": [
      "Chord(chord_symbol='Cmaj/G', note_names=('G', 'C', 'E'), interval_symbols=('5', '1', '3'), interval_structure=(0, 5, 9))\n",
      "Chord(chord_symbol='Dmin7', note_names=('D', 'A', 'C', 'F'), interval_symbols=('1', '5', 'b7', 'b3'), interval_structure=(0, 7, 10, 15))\n"
     ]
    }
   ],
   "source": [
    "from aristoxenus import D2\n",
    "print(I.invert(2))\n",
    "print(ii.voicing(D2))"
   ]
  },
  {
   "cell_type": "markdown",
   "metadata": {},
   "source": [
    "We try to ensure that inversions are respected in voicings, so that a chord still has the same bass after applying the voicing. This means that the user needs to invert a chord before applying the voicing, otherwise the notes would be improperly spaced. If the user tries to invert a chord that is not in its close voicing, then the chord will revert to the close voicing before applying the inversion."
   ]
  },
  {
   "cell_type": "code",
   "execution_count": null,
   "metadata": {},
   "outputs": [
    {
     "name": "stdout",
     "output_type": "stream",
     "text": [
      "Chord(chord_symbol='Dmin7/A', note_names=('A', 'D', 'F', 'C'), interval_symbols=('5', '1', 'b3', 'b7'), interval_structure=(0, 5, 8, 15))\n",
      "Chord(chord_symbol='Dmin7/A', note_names=('A', 'C', 'D', 'F'), interval_symbols=('5', 'b7', '1', 'b3'), interval_structure=(0, 3, 5, 8))\n",
      "Chord(chord_symbol='Dmin7/A', note_names=('A', 'C', 'D', 'F'), interval_symbols=('5', 'b7', '1', 'b3'), interval_structure=(0, 3, 5, 8))\n"
     ]
    }
   ],
   "source": [
    "print(ii.invert(2).voicing(D2)) # correct\n",
    "print(ii.voicing(D2).invert(2)) # incorrect\n",
    "# the voicing is nullified if the chord is already spread voiced.\n",
    "print(ii.invert(2)) "
   ]
  },
  {
   "cell_type": "markdown",
   "metadata": {},
   "source": [
    "It's possible to create chord structures directly from scales using a series of method calls:"
   ]
  },
  {
   "cell_type": "code",
   "execution_count": null,
   "metadata": {},
   "outputs": [
    {
     "name": "stdout",
     "output_type": "stream",
     "text": [
      "Chord(chord_symbol='Fmaj7/C', note_names=('C', 'A', 'E', 'F'), interval_symbols=('5', '3', '7', '1'), interval_structure=(0, 9, 16, 17))\n"
     ]
    }
   ],
   "source": [
    "new_chord = (\n",
    "    HeptatonicScale('C', 'ionian')\n",
    "    .get_tertial_tetrad(4)\n",
    "    .invert(2)\n",
    "    .voicing('d3')\n",
    ")\n",
    "print(new_chord)"
   ]
  },
  {
   "cell_type": "markdown",
   "metadata": {},
   "source": [
    "And there's lots of different ways that we could use the basic materials to make new patterns:"
   ]
  },
  {
   "cell_type": "code",
   "execution_count": 36,
   "metadata": {},
   "outputs": [
    {
     "name": "stdout",
     "output_type": "stream",
     "text": [
      "[Chord(chord_symbol='Gbmaj7', note_names=('Gb', 'Bb', 'Db', 'F'), interval_symbols=('1', '3', '5', '7'), interval_structure=(0, 4, 7, 11)),\n",
      " Chord(chord_symbol='Dbmaj7', note_names=('Db', 'F', 'Ab', 'C'), interval_symbols=('1', '3', '5', '7'), interval_structure=(0, 4, 7, 11)),\n",
      " Chord(chord_symbol='Ab7b5', note_names=('Ab', 'C', 'Ebb', 'Gb'), interval_symbols=('1', '3', 'b5', 'b7'), interval_structure=(0, 4, 6, 10))]\n"
     ]
    }
   ],
   "source": [
    "from pprint import pprint\n",
    "scale = HeptatonicScale('Ab', 'hemitonic', 'mixolydian')\n",
    "\n",
    "chord_scale = [scale.get_tertial_chord(i + 1, 4) for i in range(len(scale))][::-3]\n",
    "pprint(chord_scale)"
   ]
  }
 ],
 "metadata": {
  "kernelspec": {
   "display_name": ".venv",
   "language": "python",
   "name": "python3"
  },
  "language_info": {
   "codemirror_mode": {
    "name": "ipython",
    "version": 3
   },
   "file_extension": ".py",
   "mimetype": "text/x-python",
   "name": "python",
   "nbconvert_exporter": "python",
   "pygments_lexer": "ipython3",
   "version": "3.12.5"
  }
 },
 "nbformat": 4,
 "nbformat_minor": 2
}
