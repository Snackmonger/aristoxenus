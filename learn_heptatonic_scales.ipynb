{
 "cells": [
  {
   "cell_type": "markdown",
   "metadata": {},
   "source": [
    "Heptatonic Scales\n",
    "-----------------\n",
    "\n",
    "Heptatonic scales are the most common scales found in music around the world. In part, this may result from the natural mathematical principles of sound waves, but it has also been reinforced by thousands of years of musical practice. The ancient Greek word for a \"scale\" or \"mode\" is *harmonia*; derived from the verb *harmozo* \"to fit together\" a \"harmonia\" is more literally a \"fitting-together-ness\". A scale, in turn, is the sum of how its intervals \"fit together\". But the study of scaleforms is not simply an academic exercise; there are many musical movements that have been described as 'borrowing' from other scales, and we can learn a lot about movement by looking at how different scales are \"fitted together\" from their intervals."
   ]
  },
  {
   "cell_type": "markdown",
   "metadata": {},
   "source": [
    "The Diatonic Scale\n",
    "------------------\n",
    "\n",
    "The diatonic scale is the most common scale in Western music, and indeed many musical cultures around the world. "
   ]
  },
  {
   "cell_type": "code",
   "execution_count": 1,
   "metadata": {},
   "outputs": [
    {
     "name": "stdout",
     "output_type": "stream",
     "text": [
      "{'interval_names': ('1', '2', '3', '4', '5', '6', '7'),\n",
      " 'interval_structure': (0, 2, 4, 5, 7, 9, 11),\n",
      " 'keynote': 'C',\n",
      " 'mode_name': None,\n",
      " 'recommended_keynote': 'C',\n",
      " 'recommended_rendering': ('C', 'D', 'E', 'F', 'G', 'A', 'B'),\n",
      " 'requested_rendering': ('C', 'D', 'E', 'F', 'G', 'A', 'B'),\n",
      " 'roman_names': ('I', 'II', 'III', 'IV', 'V', 'VI', 'VII'),\n",
      " 'scale_name': 'diatonic',\n",
      " 'step_formula': ('tone',\n",
      "                  'tone',\n",
      "                  'semitone',\n",
      "                  'tone',\n",
      "                  'tone',\n",
      "                  'tone',\n",
      "                  'semitone')}\n"
     ]
    }
   ],
   "source": [
    "from pprint import pprint \n",
    "from aristoxenus import api\n",
    "x = api.get_heptatonic_scale(scale_name='diatonic')\n",
    "pprint(x)"
   ]
  },
  {
   "cell_type": "markdown",
   "metadata": {},
   "source": [
    "The Greeks rationalized the diatonic scale as being made up of two diatonic tetrachords. Diatonic tetrachords, in turn, were ostensibly called \"diatonic\" because the intervals of the tetrachord were more \"stretched\" (\"tonic-\" from *teino* \"to stretch\") \"across\" (\"dia\") the span of a fourth than the older tetrachords. \n",
    "\n",
    "## The Paleochromatic Scale\n",
    "\n",
    "When the tetrachord was less \"stretched\", and its intervals were more crowded together, it became \"colourful\" (\"chromatic\"). When two chromatic tetrachords were joined, the result was a chromatic scale. Of course, we use the term \"chromatic\" in a very different sense today, so let's call the ancient scale \"paleochromatic\" to avoid confusion (\"paleo-\", \"old, ancient\")."
   ]
  },
  {
   "cell_type": "code",
   "execution_count": 2,
   "metadata": {},
   "outputs": [
    {
     "name": "stdout",
     "output_type": "stream",
     "text": [
      "{'interval_names': ('1', 'b2', '3', '4', 'b5', '6', '7'),\n",
      " 'interval_structure': (0, 1, 4, 5, 6, 9, 11),\n",
      " 'keynote': 'C',\n",
      " 'mode_name': None,\n",
      " 'recommended_keynote': 'C',\n",
      " 'recommended_rendering': ('C', 'Db', 'E', 'F', 'Gb', 'A', 'B'),\n",
      " 'requested_rendering': ('C', 'Db', 'E', 'F', 'Gb', 'A', 'B'),\n",
      " 'roman_names': ('I', 'bII', 'III', 'IV', 'bV', 'VI', 'VII'),\n",
      " 'scale_name': 'paleochromatic',\n",
      " 'step_formula': ('semitone',\n",
      "                  'hemiolion',\n",
      "                  'semitone',\n",
      "                  'semitone',\n",
      "                  'hemiolion',\n",
      "                  'tone',\n",
      "                  'semitone')}\n"
     ]
    }
   ],
   "source": [
    "x = api.get_heptatonic_scale(scale_name='paleochromatic')\n",
    "pprint(x)"
   ]
  }
 ],
 "metadata": {
  "kernelspec": {
   "display_name": ".venv",
   "language": "python",
   "name": "python3"
  },
  "language_info": {
   "codemirror_mode": {
    "name": "ipython",
    "version": 3
   },
   "file_extension": ".py",
   "mimetype": "text/x-python",
   "name": "python",
   "nbconvert_exporter": "python",
   "pygments_lexer": "ipython3",
   "version": "3.12.5"
  }
 },
 "nbformat": 4,
 "nbformat_minor": 2
}
