{
 "cells": [
  {
   "cell_type": "markdown",
   "metadata": {},
   "source": [
    "Endpoint Interface\n",
    "------------------"
   ]
  },
  {
   "cell_type": "markdown",
   "metadata": {},
   "source": [
    "The ``api`` module provides a set of endpoint functions that deliver chunks of data collated from the various simple functions in the ``core`` module."
   ]
  },
  {
   "cell_type": "markdown",
   "metadata": {},
   "source": [
    "It's easy to get a report about a simple scaleform using the ``api.heptatonic_scale_form`` endpoint:"
   ]
  },
  {
   "cell_type": "code",
   "execution_count": 2,
   "metadata": {},
   "outputs": [
    {
     "data": {
      "text/plain": [
       "('D#', 'E#', 'F##', 'G#', 'A#', 'B#', 'C##')"
      ]
     },
     "execution_count": 2,
     "metadata": {},
     "output_type": "execute_result"
    }
   ],
   "source": [
    "from aristoxenus import api\n",
    "data = api.get_heptatonic_scale('D#')\n",
    "data['requested_rendering']"
   ]
  },
  {
   "cell_type": "markdown",
   "metadata": {},
   "source": [
    "The requested rendering was D# major, but our report also contains information letting us know that there is a better spelling for this scale:"
   ]
  },
  {
   "cell_type": "code",
   "execution_count": 3,
   "metadata": {},
   "outputs": [
    {
     "data": {
      "text/plain": [
       "('Eb', 'F', 'G', 'Ab', 'Bb', 'C', 'D')"
      ]
     },
     "execution_count": 3,
     "metadata": {},
     "output_type": "execute_result"
    }
   ],
   "source": [
    "data['recommended_rendering']"
   ]
  },
  {
   "cell_type": "markdown",
   "metadata": {},
   "source": [
    "Interval structures are stored as simple lists of intervals, treating 0 as the unison and 12 as the octave."
   ]
  },
  {
   "cell_type": "code",
   "execution_count": 4,
   "metadata": {},
   "outputs": [
    {
     "data": {
      "text/plain": [
       "(0, 2, 4, 5, 7, 9, 11)"
      ]
     },
     "execution_count": 4,
     "metadata": {},
     "output_type": "execute_result"
    }
   ],
   "source": [
    "data['interval_structure']"
   ]
  },
  {
   "cell_type": "markdown",
   "metadata": {},
   "source": [
    "This library also lets us play around with unusual scaleforms, and we have canonized names for secondary heptatonic scales within our own system. Most exotic scales are modes of one of the scales below. Each one (except the last one) has been derived from the diatonic scale by moving one note, and we have assigned names that try to describe that one note difference, where possible. The last scale is the ancient \"chromatic\" scale, which has been renamed to avoid confusion with the modern \"chromatic\" scale."
   ]
  },
  {
   "cell_type": "code",
   "execution_count": 5,
   "metadata": {},
   "outputs": [
    {
     "name": "stdout",
     "output_type": "stream",
     "text": [
      "diatonic            C D E F G A B            1 2 3 4 5 6 7            \n",
      "altered             C Db Eb Fb Gb Ab Bb      1 b2 b3 b4 b5 b6 b7      \n",
      "hemitonic           C Db E F G A B           1 b2 3 4 5 6 7           \n",
      "hemiolic            C D# E F G A B           1 #2 3 4 5 6 7           \n",
      "diminished          C D E F Gb A B           1 2 3 4 b5 6 7           \n",
      "augmented           C D E F G# A B           1 2 3 4 #5 6 7           \n",
      "harmonic            C D E F G Ab B           1 2 3 4 5 b6 7           \n",
      "biseptimal          C D E F G A# B           1 2 3 4 5 #6 7           \n",
      "paleochromatic      C Db E F Gb A B          1 b2 3 4 b5 6 7          \n",
      "enigmatic           C Db E F# G# A# B        1 b2 3 #4 #5 #6 7        \n",
      "double_harmonic     C Db E F G Ab B          1 b2 3 4 5 b6 7          \n",
      "neapolitan          C Db Eb F G A B          1 b2 b3 4 5 6 7          \n",
      "hungarian_major     C D# E F# G A Bb         1 #2 3 #4 5 6 b7         \n",
      "persian             C Db E F Gb Ab B         1 b2 3 4 b5 b6 7         \n"
     ]
    }
   ],
   "source": [
    "from aristoxenus.constants import HEPTATONIC_SCALES\n",
    "for scale_name in HEPTATONIC_SCALES:\n",
    "    data = api.get_heptatonic_scale(scale_name=scale_name)\n",
    "    names = ' '.join(data['recommended_rendering'])\n",
    "    intervals = ' '.join(data['interval_names'])\n",
    "    print(f\"{scale_name:20}{names:25}{intervals:25}\")"
   ]
  },
  {
   "cell_type": "markdown",
   "metadata": {},
   "source": [
    "Since we are thinking of heptatonic scales, each scaleform is associated with seven modes, and we can see how the relative intervals of the scale change as we move through the scale's modes, for instance the 'altered' scale:"
   ]
  },
  {
   "cell_type": "code",
   "execution_count": 13,
   "metadata": {},
   "outputs": [
    {
     "name": "stdout",
     "output_type": "stream",
     "text": [
      "altered ionian         1 b2 b3 b4 b5 b6 b7\n",
      "altered dorian         1 2 b3 4 5 6 7\n",
      "altered phrygian       1 b2 b3 4 5 6 b7\n",
      "altered lydian         1 2 3 #4 #5 6 7\n",
      "altered mixolydian     1 2 3 #4 5 6 b7\n",
      "altered aeolian        1 2 3 4 5 b6 b7\n",
      "altered locrian        1 2 b3 4 b5 b6 b7\n"
     ]
    }
   ],
   "source": [
    "from aristoxenus.constants import MODAL_SERIES_KEYS\n",
    "for mode in MODAL_SERIES_KEYS:\n",
    "    data = api.get_heptatonic_scale('C', scale_name='altered', mode_name=mode)\n",
    "    print(f\"altered {mode:15}{' '.join(data['interval_names'])}\")"
   ]
  },
  {
   "cell_type": "markdown",
   "metadata": {},
   "source": [
    "Cool! The altered scale has some interesting modes to play with, but they're still feeling pretty familiar. Let's explore an even more unusual scaleform:"
   ]
  },
  {
   "cell_type": "code",
   "execution_count": 14,
   "metadata": {},
   "outputs": [
    {
     "name": "stdout",
     "output_type": "stream",
     "text": [
      "double harmonic ionian         1 b2 3 4 5 b6 7\n",
      "double harmonic dorian         1 #2 3 #4 5 #6 7\n",
      "double harmonic phrygian       1 b2 b3 b4 5 b6 bb7\n",
      "double harmonic lydian         1 2 b3 #4 5 b6 7\n",
      "double harmonic mixolydian     1 b2 3 4 b5 6 b7\n",
      "double harmonic aeolian        1 #2 3 4 #5 6 7\n",
      "double harmonic locrian        1 b2 bb3 4 b5 b6 bb7\n"
     ]
    }
   ],
   "source": [
    "from aristoxenus.constants import MODAL_SERIES_KEYS\n",
    "for mode in MODAL_SERIES_KEYS:\n",
    "    data = api.get_heptatonic_scale('C', scale_name='double_harmonic', mode_name=mode)\n",
    "    print(f\"double harmonic {mode:15}{' '.join(data['interval_names'])}\")"
   ]
  },
  {
   "cell_type": "markdown",
   "metadata": {},
   "source": [
    "Wow! b4, bb3, #6... now THIS scale has some weird stuff going on! \n",
    "As we'll see later, we can use any of the heptatonic scales to generate chords, so the possibilities for chord borrowing are extensive. "
   ]
  },
  {
   "cell_type": "markdown",
   "metadata": {},
   "source": [
    "You'll notice that, in our system, the modal names are simply synonyms for 'first', 'second', 'third', etc., and we do not impose notions of intervallic structures on those names (the intervallic structure is indicated by the canonical scale name instead).\n",
    "\n",
    "In some cases, this could lead to conflicts with other people's scale naming schemes, so we also allow for the possibility that the ``scale_name`` parameter can be used to pass a modified modal name. In such cases, the ``mode_name`` parameter will be ignored entirely."
   ]
  },
  {
   "cell_type": "code",
   "execution_count": 7,
   "metadata": {},
   "outputs": [
    {
     "name": "stdout",
     "output_type": "stream",
     "text": [
      "{'keynote': 'C', 'scale_name': 'lydian b6', 'modal_name': None, 'interval_structure': (0, 2, 4, 6, 7, 8, 11), 'interval_names': ('1', '2', '3', '#4', '5', 'b6', '7'), 'roman_names': ('I', 'II', 'III', '#IV', 'V', 'bVI', 'VII'), 'requested_rendering': ('C', 'D', 'E', 'F#', 'G', 'Ab', 'B'), 'recommended_keynote': 'C', 'recommended_rendering': ('C', 'D', 'E', 'F#', 'G', 'Ab', 'B')}\n",
      "{'keynote': 'C', 'scale_name': 'dorian', 'modal_name': None, 'interval_structure': (0, 2, 3, 5, 7, 9, 10), 'interval_names': ('1', '2', 'b3', '4', '5', '6', 'b7'), 'roman_names': ('I', 'II', 'bIII', 'IV', 'V', 'VI', 'bVII'), 'requested_rendering': ('C', 'D', 'Eb', 'F', 'G', 'A', 'Bb'), 'recommended_keynote': 'C', 'recommended_rendering': ('C', 'D', 'Eb', 'F', 'G', 'A', 'Bb')}\n",
      "{'keynote': 'C', 'scale_name': 'lydianAugmented', 'modal_name': None, 'interval_structure': (0, 2, 4, 6, 8, 9, 11), 'interval_names': ('1', '2', '3', '#4', '#5', '6', '7'), 'roman_names': ('I', 'II', 'III', '#IV', '#V', 'VI', 'VII'), 'requested_rendering': ('C', 'D', 'E', 'F#', 'G#', 'A', 'B'), 'recommended_keynote': 'C', 'recommended_rendering': ('C', 'D', 'E', 'F#', 'G#', 'A', 'B')}\n",
      "{'keynote': 'C', 'scale_name': 'mixolydian_augmented', 'modal_name': None, 'interval_structure': (0, 2, 4, 5, 8, 9, 10), 'interval_names': ('1', '2', '3', '4', '#5', '6', 'b7'), 'roman_names': ('I', 'II', 'III', 'IV', '#V', 'VI', 'bVII'), 'requested_rendering': ('C', 'D', 'E', 'F', 'G#', 'A', 'Bb'), 'recommended_keynote': 'C', 'recommended_rendering': ('C', 'D', 'E', 'F', 'G#', 'A', 'Bb')}\n",
      "{'keynote': 'C', 'scale_name': 'dorian nat 7', 'modal_name': None, 'interval_structure': (0, 2, 3, 5, 7, 9, 11), 'interval_names': ('1', '2', 'b3', '4', '5', '6', '7'), 'roman_names': ('I', 'II', 'bIII', 'IV', 'V', 'VI', 'VII'), 'requested_rendering': ('C', 'D', 'Eb', 'F', 'G', 'A', 'B'), 'recommended_keynote': 'C', 'recommended_rendering': ('C', 'D', 'Eb', 'F', 'G', 'A', 'B')}\n",
      "{'keynote': 'C', 'scale_name': 'phrygian natural 6', 'modal_name': None, 'interval_structure': (0, 1, 3, 5, 7, 9, 10), 'interval_names': ('1', 'b2', 'b3', '4', '5', '6', 'b7'), 'roman_names': ('I', 'bII', 'bIII', 'IV', 'V', 'VI', 'bVII'), 'requested_rendering': ('C', 'Db', 'Eb', 'F', 'G', 'A', 'Bb'), 'recommended_keynote': 'C', 'recommended_rendering': ('C', 'Db', 'Eb', 'F', 'G', 'A', 'Bb')}\n",
      "{'keynote': 'C', 'scale_name': 'melodic minor', 'modal_name': None, 'interval_structure': (0, 2, 3, 5, 7, 9, 11), 'interval_names': ('1', '2', 'b3', '4', '5', '6', '7'), 'roman_names': ('I', 'II', 'bIII', 'IV', 'V', 'VI', 'VII'), 'requested_rendering': ('C', 'D', 'Eb', 'F', 'G', 'A', 'B'), 'recommended_keynote': 'C', 'recommended_rendering': ('C', 'D', 'Eb', 'F', 'G', 'A', 'B')}\n",
      "{'keynote': 'C', 'scale_name': 'harmonic minor', 'modal_name': None, 'interval_structure': (0, 2, 3, 5, 7, 8, 11), 'interval_names': ('1', '2', 'b3', '4', '5', 'b6', '7'), 'roman_names': ('I', 'II', 'bIII', 'IV', 'V', 'bVI', 'VII'), 'requested_rendering': ('C', 'D', 'Eb', 'F', 'G', 'Ab', 'B'), 'recommended_keynote': 'C', 'recommended_rendering': ('C', 'D', 'Eb', 'F', 'G', 'Ab', 'B')}\n",
      "{'keynote': 'C', 'scale_name': 'hungarian minor', 'modal_name': None, 'interval_structure': (0, 2, 3, 6, 7, 8, 11), 'interval_names': ('1', '2', 'b3', '#4', '5', 'b6', '7'), 'roman_names': ('I', 'II', 'bIII', '#IV', 'V', 'bVI', 'VII'), 'requested_rendering': ('C', 'D', 'Eb', 'F#', 'G', 'Ab', 'B'), 'recommended_keynote': 'C', 'recommended_rendering': ('C', 'D', 'Eb', 'F#', 'G', 'Ab', 'B')}\n"
     ]
    }
   ],
   "source": [
    "requests = ['lydian b6', 'dorian', 'lydianAugmented', 'mixolydian_augmented', 'dorian nat 7', 'phrygian natural 6', 'melodic minor', 'harmonic minor', 'hungarian minor']\n",
    "for request in requests:\n",
    "    data = api.get_heptatonic_scale(scale_name=request)\n",
    "    print(data)\n",
    "\n"
   ]
  }
 ],
 "metadata": {
  "kernelspec": {
   "display_name": ".venv",
   "language": "python",
   "name": "python3"
  },
  "language_info": {
   "codemirror_mode": {
    "name": "ipython",
    "version": 3
   },
   "file_extension": ".py",
   "mimetype": "text/x-python",
   "name": "python",
   "nbconvert_exporter": "python",
   "pygments_lexer": "ipython3",
   "version": "3.12.5"
  }
 },
 "nbformat": 4,
 "nbformat_minor": 2
}
